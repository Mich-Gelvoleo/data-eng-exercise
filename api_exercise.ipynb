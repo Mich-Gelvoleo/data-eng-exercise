{
 "cells": [
  {
   "cell_type": "code",
   "execution_count": 35,
   "id": "294c2b0f-7e12-4991-8ae1-71e6f86f6c90",
   "metadata": {},
   "outputs": [
    {
     "name": "stdout",
     "output_type": "stream",
     "text": [
      "Collecting openpyxlNote: you may need to restart the kernel to use updated packages.\n",
      "\n",
      "  Downloading openpyxl-3.1.5-py2.py3-none-any.whl.metadata (2.5 kB)\n",
      "Collecting et-xmlfile (from openpyxl)\n",
      "  Downloading et_xmlfile-2.0.0-py3-none-any.whl.metadata (2.7 kB)\n",
      "Downloading openpyxl-3.1.5-py2.py3-none-any.whl (250 kB)\n",
      "   ---------------------------------------- 0.0/250.9 kB ? eta -:--:--\n",
      "   ---------------------------------------- 0.0/250.9 kB ? eta -:--:--\n",
      "   ---------------------------------------- 0.0/250.9 kB ? eta -:--:--\n",
      "   - -------------------------------------- 10.2/250.9 kB ? eta -:--:--\n",
      "   ------ -------------------------------- 41.0/250.9 kB 393.8 kB/s eta 0:00:01\n",
      "   ---------------------------------------  245.8/250.9 kB 1.7 MB/s eta 0:00:01\n",
      "   ---------------------------------------- 250.9/250.9 kB 1.5 MB/s eta 0:00:00\n",
      "Downloading et_xmlfile-2.0.0-py3-none-any.whl (18 kB)\n",
      "Installing collected packages: et-xmlfile, openpyxl\n",
      "Successfully installed et-xmlfile-2.0.0 openpyxl-3.1.5\n"
     ]
    },
    {
     "name": "stderr",
     "output_type": "stream",
     "text": [
      "\n",
      "[notice] A new release of pip is available: 24.0 -> 24.3.1\n",
      "[notice] To update, run: python.exe -m pip install --upgrade pip\n"
     ]
    }
   ],
   "source": [
    "%pip install openpyxl"
   ]
  },
  {
   "cell_type": "code",
   "execution_count": 11,
   "id": "d2342f85-2869-4464-b926-3bfb614031e6",
   "metadata": {},
   "outputs": [],
   "source": [
    "from datetime import datetime\n",
    "\n",
    "import pandas as pd\n",
    "import requests\n",
    "import openpyxl\n",
    "import re"
   ]
  },
  {
   "cell_type": "code",
   "execution_count": 3,
   "id": "bfa158a6-7c1a-48e1-852b-624359b75d13",
   "metadata": {},
   "outputs": [],
   "source": [
    "\n",
    "url = \"https://arbeitnow.com/api/job-board-api\"\n",
    "\n",
    "payload = {}\n",
    "headers = {}\n",
    "\n",
    "response = requests.request(\"GET\", url, headers=headers, data=payload)\n",
    "\n",
    "#print(response.text)\n",
    "\n",
    "data = response.json()"
   ]
  },
  {
   "cell_type": "code",
   "execution_count": 4,
   "id": "2e4538f0-3f0d-490b-bcda-f4220daad1dd",
   "metadata": {},
   "outputs": [],
   "source": [
    "df = pd.DataFrame(data['data'])"
   ]
  },
  {
   "cell_type": "code",
   "execution_count": 5,
   "id": "4612ab3d-9e36-41d8-950a-c48de4e386cf",
   "metadata": {},
   "outputs": [],
   "source": [
    "df['tags'] = df['tags'].apply(lambda x: \", \".join(x))"
   ]
  },
  {
   "cell_type": "code",
   "execution_count": 6,
   "id": "bd513933-8cae-4ba9-9195-6e9779b35c25",
   "metadata": {},
   "outputs": [],
   "source": [
    "df['job_types'] = df['job_types'].apply(lambda x: \", \".join(x))"
   ]
  },
  {
   "cell_type": "code",
   "execution_count": 7,
   "id": "dde2cc58-b342-4fa5-b89f-337c59767b88",
   "metadata": {},
   "outputs": [],
   "source": [
    "df['created_at'] = df['created_at'].apply(datetime.fromtimestamp)"
   ]
  },
  {
   "cell_type": "code",
   "execution_count": 12,
   "id": "a985ab6d-7eca-45e2-a111-f38ef8c80380",
   "metadata": {},
   "outputs": [],
   "source": [
    "df['description'] = df['description'].str.replace(r'<[^<>]*>', '', regex=True)"
   ]
  },
  {
   "cell_type": "code",
   "execution_count": 16,
   "id": "ea255045-cec9-4129-80c9-4ab5ad76c056",
   "metadata": {},
   "outputs": [],
   "source": [
    "mask = df.map(type) != bool\n",
    "string = {True: 'Yes', False: 'No'}\n",
    "\n",
    "df = df.where(mask, df.replace(string))"
   ]
  },
  {
   "cell_type": "code",
   "execution_count": 18,
   "id": "2484053f-a940-4d8e-9a4d-b81fa4eac2a1",
   "metadata": {},
   "outputs": [],
   "source": [
    "df.to_excel(\"jobs.xlsx\")"
   ]
  },
  {
   "cell_type": "code",
   "execution_count": null,
   "id": "008acb43-b95b-4bcb-abc9-72109e3ec0b4",
   "metadata": {},
   "outputs": [],
   "source": []
  }
 ],
 "metadata": {
  "kernelspec": {
   "display_name": "Python 3 (ipykernel)",
   "language": "python",
   "name": "python3"
  },
  "language_info": {
   "codemirror_mode": {
    "name": "ipython",
    "version": 3
   },
   "file_extension": ".py",
   "mimetype": "text/x-python",
   "name": "python",
   "nbconvert_exporter": "python",
   "pygments_lexer": "ipython3",
   "version": "3.12.3"
  }
 },
 "nbformat": 4,
 "nbformat_minor": 5
}
